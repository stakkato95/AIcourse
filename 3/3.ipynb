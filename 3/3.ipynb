{
 "cells": [
  {
   "cell_type": "code",
   "execution_count": 1,
   "id": "a695b7db",
   "metadata": {},
   "outputs": [],
   "source": [
    "import torch\n",
    "import torch.nn as nn\n",
    "import torch.nn.functional as F\n",
    "from torchvision import datasets, transforms\n",
    "\n",
    "import numpy as np\n",
    "\n",
    "import matplotlib.pyplot as plt\n",
    "import seaborn as sns"
   ]
  },
  {
   "cell_type": "markdown",
   "id": "0b04aa9e",
   "metadata": {},
   "source": [
    "### Read data"
   ]
  },
  {
   "cell_type": "code",
   "execution_count": 2,
   "id": "ca4e5bf7",
   "metadata": {},
   "outputs": [],
   "source": [
    "def get_data(path, batch_size, is_train, should_shuffle):\n",
    "    dataset = datasets.FashionMNIST(\n",
    "        path,\n",
    "        train=is_train,\n",
    "        download=True,\n",
    "        transform=transforms.ToTensor()\n",
    "    )\n",
    "    return torch.utils.data.DataLoader(\n",
    "        dataset=dataset, \n",
    "        batch_size=batch_size, \n",
    "        shuffle=should_shuffle\n",
    "    )"
   ]
  },
  {
   "cell_type": "code",
   "execution_count": 92,
   "id": "b9796a25",
   "metadata": {},
   "outputs": [],
   "source": [
    "batch_size = 16\n",
    "\n",
    "train_loader = get_data('./data_train', batch_size, True, True)\n",
    "test_loader = get_data('./data_test', batch_size, False, False)"
   ]
  },
  {
   "cell_type": "code",
   "execution_count": 16,
   "id": "63038c19",
   "metadata": {},
   "outputs": [
    {
     "name": "stdout",
     "output_type": "stream",
     "text": [
      "X_train: torch.Size([32, 1, 28, 28]), torch.FloatTensor\n",
      "y_train: torch.Size([32]), torch.LongTensor\n"
     ]
    }
   ],
   "source": [
    "# check size of images\n",
    "for X_train, y_train in train_loader:\n",
    "    print(f'X_train: {X_train.shape}, {X_train.type()}')\n",
    "    print(f'y_train: {y_train.shape}, {y_train.type()}')\n",
    "    break"
   ]
  },
  {
   "cell_type": "code",
   "execution_count": 25,
   "id": "67616365",
   "metadata": {},
   "outputs": [],
   "source": [
    "img_side = 28\n",
    "img_size = img_side * img_side"
   ]
  },
  {
   "cell_type": "code",
   "execution_count": 24,
   "id": "42780df1",
   "metadata": {},
   "outputs": [
    {
     "data": {
      "image/png": "[encoded data removed]",
      "text/plain": [
       "<Figure size 1500x1500 with 10 Axes>"
      ]
     },
     "metadata": {},
     "output_type": "display_data"
    }
   ],
   "source": [
    "plt.figure(figsize=(15,15))\n",
    "\n",
    "for i in range(10):\n",
    "    plt.subplot(1, 10, i+1)\n",
    "    plt.axis('off')\n",
    "    plt.imshow(X_train[i, :, :, :].numpy().reshape(img_size, img_size), cmap='gray')\n",
    "    plt.title(f'class {y_train[i]}', fontsize=8)\n",
    "\n",
    "plt.show()"
   ]
  },
  {
   "cell_type": "markdown",
   "id": "8de71565",
   "metadata": {},
   "source": [
    "### Create NN & train funs"
   ]
  },
  {
   "cell_type": "code",
   "execution_count": 118,
   "id": "38e109b6",
   "metadata": {},
   "outputs": [
    {
     "name": "stdout",
     "output_type": "stream",
     "text": [
      "Net(\n",
      "  (fc1): Linear(in_features=784, out_features=50, bias=True)\n",
      "  (fc1_drop): Dropout(p=0.2, inplace=False)\n",
      "  (fc2): Linear(in_features=50, out_features=50, bias=True)\n",
      "  (fc2_drop): Dropout(p=0.2, inplace=False)\n",
      "  (fc3): Linear(in_features=50, out_features=10, bias=True)\n",
      ")\n"
     ]
    }
   ],
   "source": [
    "class Net(nn.Module):\n",
    "    \n",
    "    def __init__(self, ):\n",
    "        super(Net, self).__init__()\n",
    "        \n",
    "        self.fc1 = nn.Linear(img_size, 50)\n",
    "        self.fc1_drop = nn.Dropout(0.2)\n",
    "        \n",
    "        self.fc2 = nn.Linear(50, 50)\n",
    "        self.fc2_drop = nn.Dropout(0.2)\n",
    "        \n",
    "        self.fc3 = nn.Linear(50, 10)\n",
    "        \n",
    "    def forward(self, x):\n",
    "        x = x.view(-1, img_size)\n",
    "        \n",
    "        x = F.relu(self.fc1(x))\n",
    "        x = self.fc1_drop(x)\n",
    "        \n",
    "        x = F.relu(self.fc2(x))\n",
    "        x = self.fc2_drop(x)\n",
    "        \n",
    "        return F.log_softmax(self.fc3(x), dim=1)\n",
    "    \n",
    "##################################################\n",
    "model = Net()\n",
    "print(model)\n",
    "optimizer = torch.optim.SGD(model.parameters(), lr=0.01, momentum=0.5)\n",
    "criterion = nn.CrossEntropyLoss()\n",
    "##################################################\n",
    "\n",
    "def train(epoch, log_interval):\n",
    "    # switch model into train state\n",
    "    model.train()\n",
    "    \n",
    "    for i, (data, target) in enumerate(train_loader):\n",
    "        # reset gradient from previous step\n",
    "        optimizer.zero_grad()\n",
    "        \n",
    "        # calculate prediction\n",
    "        predictions = model(data)\n",
    "        # calculate loss and gradient\n",
    "        loss = criterion(predictions, target)\n",
    "        loss.backward()\n",
    "        \n",
    "        # subtract gradient\n",
    "        optimizer.step()\n",
    "        \n",
    "        if i % log_interval == 0:\n",
    "            items_processed = i * len(data)\n",
    "            items_total = len(train_loader.dataset)\n",
    "            percent = 100 * items_processed / items_total\n",
    "            print(f'epoch {epoch: 2}, {items_processed: 6}/{items_total}/{percent:2.0f}%, loss {loss.data:.3f}')\n",
    "            \n",
    "def test(loss, accuracy):\n",
    "    # switch model to evaluation state\n",
    "    model.eval()\n",
    "    \n",
    "    # accumulate loss and number of correct predictions\n",
    "    val_loss = 0\n",
    "    correct = 0\n",
    "    \n",
    "    for data, target in test_loader:\n",
    "        # calculate predictions\n",
    "        predictions = model(data)\n",
    "        # accumulate loss\n",
    "        val_loss += criterion(predictions, target)\n",
    "        # get class predictions from predictions\n",
    "        predictions_only = predictions.data.max(1)[1]\n",
    "        # accumulate correct predictions\n",
    "        correct += predictions_only.eq(target.data)\n",
    "    \n",
    "    # len(test_loader) - returns number of batches\n",
    "    # len(test_loader.dataset) - returns number of items in batch\n",
    "    \n",
    "    # calculate average loss. Loss was calcylated per batch => len(test_loader) => averager per batch\n",
    "    val_loss /= len(test_loader)\n",
    "    loss.append(val_loss)\n",
    "    \n",
    "    # accuracy was calculated per item => len(test_loader.dataset) => average per item\n",
    "    accur = 100.0 * correct.to(torch.float32).sum() / len(test_loader.dataset)\n",
    "    accuracy.append(accur)\n",
    "    \n",
    "    print(f'test set: avg loss={val_loss:.3f}, accuracy={accur:.3f}\\n')"
   ]
  },
  {
   "cell_type": "markdown",
   "id": "faae43cf",
   "metadata": {},
   "source": [
    "### Train"
   ]
  },
  {
   "cell_type": "code",
   "execution_count": 119,
   "id": "14f43966",
   "metadata": {
    "scrolled": false
   },
   "outputs": [
    {
     "name": "stdout",
     "output_type": "stream",
     "text": [
      "epoch  0,      0/60000/ 0%, loss 2.272\n",
      "epoch  0,   3200/60000/ 5%, loss 1.561\n",
      "epoch  0,   6400/60000/11%, loss 1.375\n",
      "epoch  0,   9600/60000/16%, loss 0.689\n",
      "epoch  0,  12800/60000/21%, loss 0.922\n",
      "epoch  0,  16000/60000/27%, loss 0.666\n",
      "epoch  0,  19200/60000/32%, loss 0.866\n",
      "epoch  0,  22400/60000/37%, loss 0.934\n",
      "epoch  0,  25600/60000/43%, loss 0.531\n",
      "epoch  0,  28800/60000/48%, loss 0.857\n",
      "epoch  0,  32000/60000/53%, loss 0.350\n",
      "epoch  0,  35200/60000/59%, loss 0.580\n",
      "epoch  0,  38400/60000/64%, loss 0.389\n",
      "epoch  0,  41600/60000/69%, loss 0.801\n",
      "epoch  0,  44800/60000/75%, loss 0.548\n",
      "epoch  0,  48000/60000/80%, loss 0.458\n",
      "epoch  0,  51200/60000/85%, loss 0.435\n",
      "epoch  0,  54400/60000/91%, loss 0.598\n",
      "epoch  0,  57600/60000/96%, loss 0.523\n",
      "test set: avg loss=0.540, accuracy=80.710\n",
      "\n",
      "epoch  1,      0/60000/ 0%, loss 0.336\n",
      "epoch  1,   3200/60000/ 5%, loss 0.717\n",
      "epoch  1,   6400/60000/11%, loss 0.628\n",
      "epoch  1,   9600/60000/16%, loss 0.506\n",
      "epoch  1,  12800/60000/21%, loss 0.384\n",
      "epoch  1,  16000/60000/27%, loss 0.858\n",
      "epoch  1,  19200/60000/32%, loss 0.817\n",
      "epoch  1,  22400/60000/37%, loss 0.327\n",
      "epoch  1,  25600/60000/43%, loss 0.375\n",
      "epoch  1,  28800/60000/48%, loss 0.694\n",
      "epoch  1,  32000/60000/53%, loss 0.222\n",
      "epoch  1,  35200/60000/59%, loss 0.361\n",
      "epoch  1,  38400/60000/64%, loss 0.493\n",
      "epoch  1,  41600/60000/69%, loss 0.788\n",
      "epoch  1,  44800/60000/75%, loss 0.799\n",
      "epoch  1,  48000/60000/80%, loss 0.410\n",
      "epoch  1,  51200/60000/85%, loss 0.371\n",
      "epoch  1,  54400/60000/91%, loss 0.566\n",
      "epoch  1,  57600/60000/96%, loss 0.650\n",
      "test set: avg loss=0.468, accuracy=82.790\n",
      "\n",
      "epoch  2,      0/60000/ 0%, loss 0.490\n",
      "epoch  2,   3200/60000/ 5%, loss 0.299\n",
      "epoch  2,   6400/60000/11%, loss 0.393\n",
      "epoch  2,   9600/60000/16%, loss 0.444\n",
      "epoch  2,  12800/60000/21%, loss 0.487\n",
      "epoch  2,  16000/60000/27%, loss 0.958\n",
      "epoch  2,  19200/60000/32%, loss 0.592\n",
      "epoch  2,  22400/60000/37%, loss 0.377\n",
      "epoch  2,  25600/60000/43%, loss 0.511\n",
      "epoch  2,  28800/60000/48%, loss 0.363\n",
      "epoch  2,  32000/60000/53%, loss 0.817\n",
      "epoch  2,  35200/60000/59%, loss 0.523\n",
      "epoch  2,  38400/60000/64%, loss 0.291\n",
      "epoch  2,  41600/60000/69%, loss 0.354\n",
      "epoch  2,  44800/60000/75%, loss 0.145\n",
      "epoch  2,  48000/60000/80%, loss 0.475\n",
      "epoch  2,  51200/60000/85%, loss 0.319\n",
      "epoch  2,  54400/60000/91%, loss 0.794\n",
      "epoch  2,  57600/60000/96%, loss 0.264\n",
      "test set: avg loss=0.433, accuracy=84.150\n",
      "\n",
      "epoch  3,      0/60000/ 0%, loss 0.567\n",
      "epoch  3,   3200/60000/ 5%, loss 0.326\n",
      "epoch  3,   6400/60000/11%, loss 0.535\n",
      "epoch  3,   9600/60000/16%, loss 0.448\n",
      "epoch  3,  12800/60000/21%, loss 0.159\n",
      "epoch  3,  16000/60000/27%, loss 0.211\n",
      "epoch  3,  19200/60000/32%, loss 0.670\n",
      "epoch  3,  22400/60000/37%, loss 0.604\n",
      "epoch  3,  25600/60000/43%, loss 0.339\n",
      "epoch  3,  28800/60000/48%, loss 0.323\n",
      "epoch  3,  32000/60000/53%, loss 0.391\n",
      "epoch  3,  35200/60000/59%, loss 0.227\n",
      "epoch  3,  38400/60000/64%, loss 0.389\n",
      "epoch  3,  41600/60000/69%, loss 0.494\n",
      "epoch  3,  44800/60000/75%, loss 0.799\n",
      "epoch  3,  48000/60000/80%, loss 0.425\n",
      "epoch  3,  51200/60000/85%, loss 0.463\n",
      "epoch  3,  54400/60000/91%, loss 0.510\n",
      "epoch  3,  57600/60000/96%, loss 0.264\n",
      "test set: avg loss=0.423, accuracy=85.140\n",
      "\n",
      "epoch  4,      0/60000/ 0%, loss 0.250\n",
      "epoch  4,   3200/60000/ 5%, loss 0.446\n",
      "epoch  4,   6400/60000/11%, loss 0.439\n",
      "epoch  4,   9600/60000/16%, loss 0.818\n",
      "epoch  4,  12800/60000/21%, loss 0.189\n",
      "epoch  4,  16000/60000/27%, loss 0.588\n",
      "epoch  4,  19200/60000/32%, loss 0.786\n",
      "epoch  4,  22400/60000/37%, loss 0.212\n",
      "epoch  4,  25600/60000/43%, loss 0.696\n",
      "epoch  4,  28800/60000/48%, loss 0.461\n",
      "epoch  4,  32000/60000/53%, loss 0.287\n",
      "epoch  4,  35200/60000/59%, loss 0.532\n",
      "epoch  4,  38400/60000/64%, loss 0.425\n",
      "epoch  4,  41600/60000/69%, loss 0.677\n",
      "epoch  4,  44800/60000/75%, loss 0.348\n",
      "epoch  4,  48000/60000/80%, loss 0.188\n",
      "epoch  4,  51200/60000/85%, loss 0.589\n",
      "epoch  4,  54400/60000/91%, loss 0.290\n",
      "epoch  4,  57600/60000/96%, loss 0.421\n",
      "test set: avg loss=0.421, accuracy=84.420\n",
      "\n",
      "CPU times: user 51.6 s, sys: 2.24 s, total: 53.8 s\n",
      "Wall time: 53.2 s\n"
     ]
    }
   ],
   "source": [
    "%%time\n",
    "epochs = 5\n",
    "loss = []\n",
    "accuracy = []\n",
    "\n",
    "for epoch in range(epochs):\n",
    "    train(epoch, 200)\n",
    "    test(loss, accuracy)"
   ]
  },
  {
   "cell_type": "code",
   "execution_count": null,
   "id": "18802cb4",
   "metadata": {},
   "outputs": [],
   "source": []
  },
  {
   "cell_type": "code",
   "execution_count": null,
   "id": "c90ad466",
   "metadata": {},
   "outputs": [],
   "source": []
  }
 ],
 "metadata": {
  "kernelspec": {
   "display_name": "Python (MLLearning)",
   "language": "python",
   "name": "mllearning"
  },
  "language_info": {
   "codemirror_mode": {
    "name": "ipython",
    "version": 3
   },
   "file_extension": ".py",
   "mimetype": "text/x-python",
   "name": "python",
   "nbconvert_exporter": "python",
   "pygments_lexer": "ipython3",
   "version": "3.7.11"
  }
 },
 "nbformat": 4,
 "nbformat_minor": 5
}
