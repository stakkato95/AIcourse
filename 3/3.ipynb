{
 "cells": [
  {
   "cell_type": "code",
   "execution_count": 1,
   "id": "400f4f6e",
   "metadata": {},
   "outputs": [],
   "source": [
    "import torch\n",
    "import torch.nn as nn\n",
    "import torch.nn.functional as F\n",
    "from torchvision import datasets, transforms\n",
    "\n",
    "import numpy as np\n",
    "\n",
    "import matplotlib.pyplot as plt\n",
    "import seaborn as sns"
   ]
  },
  {
   "cell_type": "markdown",
   "id": "724ba8d2",
   "metadata": {},
   "source": [
    "### Read data"
   ]
  },
  {
   "cell_type": "code",
   "execution_count": 2,
   "id": "1a777468",
   "metadata": {},
   "outputs": [],
   "source": [
    "def get_data(path, batch_size, is_train, should_shuffle):\n",
    "    dataset = datasets.FashionMNIST(\n",
    "        path,\n",
    "        train=is_train,\n",
    "        download=True,\n",
    "        transform=transforms.ToTensor()\n",
    "    )\n",
    "    return torch.utils.data.DataLoader(\n",
    "        dataset=dataset, \n",
    "        batch_size=batch_size, \n",
    "        shuffle=should_shuffle\n",
    "    )"
   ]
  },
  {
   "cell_type": "code",
   "execution_count": 3,
   "id": "b68572e8",
   "metadata": {},
   "outputs": [],
   "source": [
    "batch_size = 16\n",
    "\n",
    "train_loader = get_data('./data_train', batch_size, True, True)\n",
    "test_loader = get_data('./data_test', batch_size, False, False)"
   ]
  },
  {
   "cell_type": "code",
   "execution_count": 4,
   "id": "9ff80ee3",
   "metadata": {},
   "outputs": [
    {
     "name": "stdout",
     "output_type": "stream",
     "text": [
      "X_train: torch.Size([16, 1, 28, 28]), torch.FloatTensor\n",
      "y_train: torch.Size([16]), torch.LongTensor\n"
     ]
    }
   ],
   "source": [
    "# check size of images\n",
    "for X_train, y_train in train_loader:\n",
    "    print(f'X_train: {X_train.shape}, {X_train.type()}')\n",
    "    print(f'y_train: {y_train.shape}, {y_train.type()}')\n",
    "    break"
   ]
  },
  {
   "cell_type": "code",
   "execution_count": 5,
   "id": "41108564",
   "metadata": {},
   "outputs": [],
   "source": [
    "img_side = 28\n",
    "img_size_tuple = (img_side, img_side)\n",
    "img_size = img_side * img_side"
   ]
  },
  {
   "cell_type": "code",
   "execution_count": 6,
   "id": "ba786732",
   "metadata": {},
   "outputs": [
    {
     "data": {
      "image/png": "[encoded data removed]",
      "text/plain": [
       "<Figure size 1500x1500 with 10 Axes>"
      ]
     },
     "metadata": {},
     "output_type": "display_data"
    }
   ],
   "source": [
    "plt.figure(figsize=(15,15))\n",
    "\n",
    "for i in range(10):\n",
    "    plt.subplot(1, 10, i+1)\n",
    "    plt.axis('off')\n",
    "    plt.imshow(X_train[i, :, :, :].numpy().reshape(img_size_tuple), cmap='gray')\n",
    "    plt.title(f'class {y_train[i]}', fontsize=8)\n",
    "\n",
    "plt.show()"
   ]
  },
  {
   "cell_type": "markdown",
   "id": "9beba939",
   "metadata": {},
   "source": [
    "### Create NN & train funs"
   ]
  },
  {
   "cell_type": "code",
   "execution_count": 7,
   "id": "1d56f576",
   "metadata": {},
   "outputs": [
    {
     "name": "stdout",
     "output_type": "stream",
     "text": [
      "Net(\n",
      "  (fc1): Linear(in_features=784, out_features=50, bias=True)\n",
      "  (fc1_drop): Dropout(p=0.2, inplace=False)\n",
      "  (fc2): Linear(in_features=50, out_features=50, bias=True)\n",
      "  (fc2_drop): Dropout(p=0.2, inplace=False)\n",
      "  (fc3): Linear(in_features=50, out_features=10, bias=True)\n",
      ")\n"
     ]
    }
   ],
   "source": [
    "class Net(nn.Module):\n",
    "    \n",
    "    def __init__(self, ):\n",
    "        super(Net, self).__init__()\n",
    "        \n",
    "        self.fc1 = nn.Linear(img_size, 50)\n",
    "        self.fc1_drop = nn.Dropout(0.2)\n",
    "        \n",
    "        self.fc2 = nn.Linear(50, 50)\n",
    "        self.fc2_drop = nn.Dropout(0.2)\n",
    "        \n",
    "        self.fc3 = nn.Linear(50, 10)\n",
    "        \n",
    "    def forward(self, x):\n",
    "        x = x.view(-1, img_size)\n",
    "        \n",
    "        x = F.relu(self.fc1(x))\n",
    "        x = self.fc1_drop(x)\n",
    "        \n",
    "        x = F.relu(self.fc2(x))\n",
    "        x = self.fc2_drop(x)\n",
    "        \n",
    "        return F.log_softmax(self.fc3(x), dim=1)\n",
    "    \n",
    "##################################################\n",
    "model = Net()\n",
    "print(model)\n",
    "optimizer = torch.optim.SGD(model.parameters(), lr=0.01, momentum=0.5)\n",
    "criterion = nn.CrossEntropyLoss()\n",
    "##################################################\n",
    "\n",
    "def train(epoch, log_interval):\n",
    "    # switch model into train state\n",
    "    model.train()\n",
    "    \n",
    "    for i, (data, target) in enumerate(train_loader):\n",
    "        # reset gradient from previous step\n",
    "        optimizer.zero_grad()\n",
    "        \n",
    "        # calculate prediction\n",
    "        predictions = model(data)\n",
    "        # calculate loss and gradient\n",
    "        loss = criterion(predictions, target)\n",
    "        loss.backward()\n",
    "        \n",
    "        # subtract gradient\n",
    "        optimizer.step()\n",
    "        \n",
    "        if i % log_interval == 0:\n",
    "            items_processed = i * len(data)\n",
    "            items_total = len(train_loader.dataset)\n",
    "            percent = 100 * items_processed / items_total\n",
    "            print(f'epoch {epoch: 2}, {items_processed: 6}/{items_total}/{percent:2.0f}%, loss {loss.data:.3f}')\n",
    "            \n",
    "def test(loss, accuracy):\n",
    "    # switch model to evaluation state\n",
    "    model.eval()\n",
    "    \n",
    "    # accumulate loss and number of correct predictions\n",
    "    val_loss = 0\n",
    "    correct = 0\n",
    "    \n",
    "    for data, target in test_loader:\n",
    "        # calculate predictions\n",
    "        predictions = model(data)\n",
    "        # accumulate loss\n",
    "        val_loss += criterion(predictions, target)\n",
    "        # get class predictions from predictions\n",
    "        predictions_only = predictions.data.max(1)[1]\n",
    "        # accumulate correct predictions\n",
    "        correct += predictions_only.eq(target.data)\n",
    "    \n",
    "    # len(test_loader) - returns number of batches\n",
    "    # len(test_loader.dataset) - returns number of items in batch\n",
    "    \n",
    "    # calculate average loss. Loss was calcylated per batch => len(test_loader) => averager per batch\n",
    "    val_loss /= len(test_loader)\n",
    "    loss.append(val_loss)\n",
    "    \n",
    "    # accuracy was calculated per item => len(test_loader.dataset) => average per item\n",
    "    accur = 100.0 * correct.to(torch.float32).sum() / len(test_loader.dataset)\n",
    "    accuracy.append(accur)\n",
    "    \n",
    "    print(f'test set: avg loss={val_loss:.3f}, accuracy={accur:.3f}\\n')"
   ]
  },
  {
   "cell_type": "markdown",
   "id": "db6b46cc",
   "metadata": {},
   "source": [
    "### Train"
   ]
  },
  {
   "cell_type": "code",
   "execution_count": 8,
   "id": "b3213a22",
   "metadata": {
    "scrolled": false
   },
   "outputs": [
    {
     "name": "stdout",
     "output_type": "stream",
     "text": [
      "epoch  0,      0/60000/ 0%, loss 2.353\n",
      "epoch  0,   3200/60000/ 5%, loss 1.943\n",
      "epoch  0,   6400/60000/11%, loss 1.247\n",
      "epoch  0,   9600/60000/16%, loss 1.068\n",
      "epoch  0,  12800/60000/21%, loss 1.352\n",
      "epoch  0,  16000/60000/27%, loss 0.947\n",
      "epoch  0,  19200/60000/32%, loss 0.604\n",
      "epoch  0,  22400/60000/37%, loss 0.771\n",
      "epoch  0,  25600/60000/43%, loss 0.821\n",
      "epoch  0,  28800/60000/48%, loss 0.800\n",
      "epoch  0,  32000/60000/53%, loss 0.640\n",
      "epoch  0,  35200/60000/59%, loss 0.585\n",
      "epoch  0,  38400/60000/64%, loss 0.400\n",
      "epoch  0,  41600/60000/69%, loss 0.671\n",
      "epoch  0,  44800/60000/75%, loss 0.508\n",
      "epoch  0,  48000/60000/80%, loss 0.647\n",
      "epoch  0,  51200/60000/85%, loss 0.629\n",
      "epoch  0,  54400/60000/91%, loss 0.621\n",
      "epoch  0,  57600/60000/96%, loss 0.426\n",
      "test set: avg loss=0.535, accuracy=80.960\n",
      "\n",
      "epoch  1,      0/60000/ 0%, loss 0.420\n",
      "epoch  1,   3200/60000/ 5%, loss 0.591\n",
      "epoch  1,   6400/60000/11%, loss 0.595\n",
      "epoch  1,   9600/60000/16%, loss 0.866\n",
      "epoch  1,  12800/60000/21%, loss 0.614\n",
      "epoch  1,  16000/60000/27%, loss 0.623\n",
      "epoch  1,  19200/60000/32%, loss 0.506\n",
      "epoch  1,  22400/60000/37%, loss 1.001\n",
      "epoch  1,  25600/60000/43%, loss 0.643\n",
      "epoch  1,  28800/60000/48%, loss 0.807\n",
      "epoch  1,  32000/60000/53%, loss 0.570\n",
      "epoch  1,  35200/60000/59%, loss 0.260\n",
      "epoch  1,  38400/60000/64%, loss 0.195\n",
      "epoch  1,  41600/60000/69%, loss 0.423\n",
      "epoch  1,  44800/60000/75%, loss 0.979\n",
      "epoch  1,  48000/60000/80%, loss 0.640\n",
      "epoch  1,  51200/60000/85%, loss 0.771\n",
      "epoch  1,  54400/60000/91%, loss 0.563\n",
      "epoch  1,  57600/60000/96%, loss 0.709\n",
      "test set: avg loss=0.481, accuracy=82.670\n",
      "\n",
      "epoch  2,      0/60000/ 0%, loss 0.384\n",
      "epoch  2,   3200/60000/ 5%, loss 0.465\n",
      "epoch  2,   6400/60000/11%, loss 0.436\n",
      "epoch  2,   9600/60000/16%, loss 0.658\n",
      "epoch  2,  12800/60000/21%, loss 0.624\n",
      "epoch  2,  16000/60000/27%, loss 0.813\n",
      "epoch  2,  19200/60000/32%, loss 0.379\n",
      "epoch  2,  22400/60000/37%, loss 0.591\n",
      "epoch  2,  25600/60000/43%, loss 0.851\n",
      "epoch  2,  28800/60000/48%, loss 0.360\n",
      "epoch  2,  32000/60000/53%, loss 0.676\n",
      "epoch  2,  35200/60000/59%, loss 0.347\n",
      "epoch  2,  38400/60000/64%, loss 0.264\n",
      "epoch  2,  41600/60000/69%, loss 0.375\n",
      "epoch  2,  44800/60000/75%, loss 0.251\n",
      "epoch  2,  48000/60000/80%, loss 0.523\n",
      "epoch  2,  51200/60000/85%, loss 0.253\n",
      "epoch  2,  54400/60000/91%, loss 0.384\n",
      "epoch  2,  57600/60000/96%, loss 0.654\n",
      "test set: avg loss=0.440, accuracy=83.850\n",
      "\n",
      "epoch  3,      0/60000/ 0%, loss 0.739\n",
      "epoch  3,   3200/60000/ 5%, loss 0.294\n",
      "epoch  3,   6400/60000/11%, loss 0.592\n",
      "epoch  3,   9600/60000/16%, loss 0.356\n",
      "epoch  3,  12800/60000/21%, loss 0.511\n",
      "epoch  3,  16000/60000/27%, loss 0.363\n",
      "epoch  3,  19200/60000/32%, loss 0.521\n",
      "epoch  3,  22400/60000/37%, loss 0.229\n",
      "epoch  3,  25600/60000/43%, loss 0.369\n",
      "epoch  3,  28800/60000/48%, loss 0.179\n",
      "epoch  3,  32000/60000/53%, loss 0.478\n",
      "epoch  3,  35200/60000/59%, loss 0.164\n",
      "epoch  3,  38400/60000/64%, loss 0.363\n",
      "epoch  3,  41600/60000/69%, loss 0.665\n",
      "epoch  3,  44800/60000/75%, loss 0.791\n",
      "epoch  3,  48000/60000/80%, loss 0.934\n",
      "epoch  3,  51200/60000/85%, loss 0.214\n",
      "epoch  3,  54400/60000/91%, loss 0.646\n",
      "epoch  3,  57600/60000/96%, loss 0.357\n",
      "test set: avg loss=0.425, accuracy=84.650\n",
      "\n",
      "epoch  4,      0/60000/ 0%, loss 0.536\n",
      "epoch  4,   3200/60000/ 5%, loss 0.729\n",
      "epoch  4,   6400/60000/11%, loss 0.523\n",
      "epoch  4,   9600/60000/16%, loss 0.444\n",
      "epoch  4,  12800/60000/21%, loss 0.430\n",
      "epoch  4,  16000/60000/27%, loss 0.325\n",
      "epoch  4,  19200/60000/32%, loss 0.343\n",
      "epoch  4,  22400/60000/37%, loss 0.554\n",
      "epoch  4,  25600/60000/43%, loss 0.387\n",
      "epoch  4,  28800/60000/48%, loss 0.834\n",
      "epoch  4,  32000/60000/53%, loss 0.572\n",
      "epoch  4,  35200/60000/59%, loss 0.418\n",
      "epoch  4,  38400/60000/64%, loss 0.124\n",
      "epoch  4,  41600/60000/69%, loss 0.151\n",
      "epoch  4,  44800/60000/75%, loss 0.353\n",
      "epoch  4,  48000/60000/80%, loss 0.505\n",
      "epoch  4,  51200/60000/85%, loss 0.381\n",
      "epoch  4,  54400/60000/91%, loss 0.539\n",
      "epoch  4,  57600/60000/96%, loss 0.500\n",
      "test set: avg loss=0.414, accuracy=84.940\n",
      "\n",
      "CPU times: user 52 s, sys: 2.25 s, total: 54.2 s\n",
      "Wall time: 53.5 s\n"
     ]
    }
   ],
   "source": [
    "%%time\n",
    "epochs = 5\n",
    "loss = []\n",
    "accuracy = []\n",
    "\n",
    "for epoch in range(epochs):\n",
    "    train(epoch, 200)\n",
    "    test(loss, accuracy)"
   ]
  }
 ],
 "metadata": {
  "kernelspec": {
   "display_name": "Python (MLLearning)",
   "language": "python",
   "name": "mllearning"
  },
  "language_info": {
   "codemirror_mode": {
    "name": "ipython",
    "version": 3
   },
   "file_extension": ".py",
   "mimetype": "text/x-python",
   "name": "python",
   "nbconvert_exporter": "python",
   "pygments_lexer": "ipython3",
   "version": "3.7.11"
  }
 },
 "nbformat": 4,
 "nbformat_minor": 5
}
